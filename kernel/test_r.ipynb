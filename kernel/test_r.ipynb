{
 "cells": [
  {
   "cell_type": "code",
   "execution_count": 5,
   "metadata": {
    "autoscroll": false,
    "collapsed": false,
    "ein.hycell": false,
    "ein.tags": "worksheet-0",
    "slideshow": {
     "slide_type": "-"
    }
   },
   "outputs": [],
   "source": [
    "require(evolqg)\n",
    "require(ggplot2)\n",
    "require(geomorph)\n",
    "require(shapes)\n",
    "require(magrittr)\n",
    "\n",
    "load('../data/Primates/06_grouped.RData')\n"
   ]
  },
  {
   "cell_type": "code",
   "execution_count": 6,
   "metadata": {
    "autoscroll": false,
    "collapsed": false,
    "ein.hycell": false,
    "ein.tags": "worksheet-0",
    "slideshow": {
     "slide_type": "-"
    }
   },
   "outputs": [
    {
     "name": "stdout",
     "output_type": "stream",
     "text": [
      "List of 4\n",
      " $ extinct:List of 2\n",
      "  ..$ coord: num [1:36, 1:3, 1:2, 1:31] -48.09 -37.06 -19.41 9.22 37.11 ...\n",
      "  .. ..- attr(*, \"dimnames\")=List of 4\n",
      "  .. .. ..$ : chr [1:36] \"IS\" \"NSL\" \"NA\" \"BR\" ...\n",
      "  .. .. ..$ : chr [1:3] \"X\" \"Y\" \"Z\"\n",
      "  .. .. ..$ : NULL\n",
      "  .. .. ..$ : NULL\n",
      "  ..$ info :'data.frame':\t31 obs. of  15 variables:\n",
      "  .. ..$ ID    : Factor w/ 1840 levels \"AMNH100503\",\"AMNH100504\",..: 98 271 101 99 94 270 426 412 428 429 ...\n",
      "  .. ..$ GEN   : Factor w/ 32 levels \"\",\"Allocebus\",..: 19 3 3 25 18 18 3 3 3 3 ...\n",
      "  .. ..$ SPE   : Factor w/ 76 levels \"\",\"adipicaudatus\",..: 55 42 56 43 40 25 NA NA NA NA ...\n",
      "  .. ..$ SUB   : Factor w/ 19 levels \"bengalensis\",..: NA NA NA NA NA NA NA NA NA NA ...\n",
      "  .. ..$ GROUP : logi [1:31] NA NA NA NA NA NA ...\n",
      "  .. ..$ MSM   : Factor w/ 9 levels \"AMNH\",\"FMNH\",..: 1 1 1 1 1 1 3 3 3 3 ...\n",
      "  .. ..$ IDORI : Factor w/ 130 levels \"\",\" majori\",\" Propithecus edwardsi?\",..: 74 2 5 93 72 71 6 6 6 6 ...\n",
      "  .. ..$ SEX   : Factor w/ 2 levels \"F\",\"M\": NA NA NA NA NA NA NA NA NA NA ...\n",
      "  .. ..$ LOC   : Factor w/ 337 levels \"\",\"0\",\"Eminiminy\",..: 49 50 49 49 NA NA 1 71 70 70 ...\n",
      "  .. ..$ DIET  : logi [1:31] NA NA NA NA NA NA ...\n",
      "  .. ..$ REP   : logi [1:31] TRUE TRUE TRUE TRUE TRUE TRUE ...\n",
      "  .. ..$ MISS  : logi [1:31] TRUE TRUE TRUE TRUE TRUE TRUE ...\n",
      "  .. ..$ FOSSIL: logi [1:31] TRUE TRUE TRUE TRUE TRUE TRUE ...\n",
      "  .. ..$ MAJOR : Factor w/ 1 level \"Prosimian\": 1 1 1 1 1 1 1 1 1 1 ...\n",
      "  .. ..$ FILE  : Factor w/ 268 levels \"AMNH_NewYork/Madagascar/Avahi/Avahi_A_ok.xlsx\",..: 41 41 41 41 41 41 78 78 78 78 ...\n",
      " $ info   :'data.frame':\t10084 obs. of  17 variables:\n",
      "  ..$ ID    : Factor w/ 10068 levels \"_A100014\",\"_A100018\",..: 9159 9160 9161 9166 9167 9168 9169 9170 9171 9174 ...\n",
      "  ..$ GEN   : Factor w/ 68 levels \"Allenopithecus\",..: 6 3 3 6 6 6 6 6 6 3 ...\n",
      "  ..$ SPE   : Factor w/ 286 levels \"adipicaudatus\",..: 105 202 202 105 105 105 105 105 105 46 ...\n",
      "  ..$ SUB   : Factor w/ 262 levels \"abbotti\",\"aequatorialis\",..: 90 150 150 90 90 90 90 90 90 42 ...\n",
      "  ..$ GROUP : Factor w/ 19 levels \"\",\"argentata\",..: 8 1 1 8 8 8 8 8 8 1 ...\n",
      "  ..$ MSM   : Factor w/ 26 levels \"\",\"AIMZU\",\"AMNH\",..: 25 25 25 25 25 25 25 25 25 25 ...\n",
      "  ..$ IDORI : Factor w/ 235 levels \"\",\"?\",\"?, se for Co\",..: 6 12 12 6 6 6 6 6 6 56 ...\n",
      "  ..$ SEX   : Factor w/ 2 levels \"F\",\"M\": 1 1 1 1 1 2 2 1 1 2 ...\n",
      "  ..$ LOC   : Factor w/ 1272 levels \"\",\"0.5 mi de Ju\",..: 899 571 571 64 684 684 684 684 684 201 ...\n",
      "  ..$ DIET  : Factor w/ 4 levels \"FruitLeaves\",..: 1 1 1 1 1 1 1 1 1 1 ...\n",
      "  ..$ REP   : logi [1:10084] FALSE FALSE FALSE FALSE FALSE FALSE ...\n",
      "  ..$ MISS  : logi [1:10084] FALSE TRUE FALSE FALSE FALSE FALSE ...\n",
      "  ..$ MAJOR : Factor w/ 4 levels \"Catarrhini\",\"Homo\",..: 3 3 3 3 3 3 3 3 3 3 ...\n",
      "  ..$ FILE  : Factor w/ 507 levels \"AIMZU Hylobates 01\",..: NA NA NA NA NA NA NA NA NA NA ...\n",
      "  ..$ HALF  : logi [1:10084] NA NA NA NA NA NA ...\n",
      "  ..$ RIGHT : logi [1:10084] NA NA NA NA NA NA ...\n",
      "  ..$ FOSSIL: logi [1:10084] NA NA NA NA NA NA ...\n",
      " $ coord  : num [1:36, 1:3, 1:10084] 1.87 3.07 3.17 2.27 -2.15 ...\n",
      "  ..- attr(*, \"dimnames\")=List of 3\n",
      "  .. ..$ : chr [1:36] \"IS\" \"NSL\" \"NA\" \"BR\" ...\n",
      "  .. ..$ : chr [1:3] \"X\" \"Y\" \"Z\"\n",
      "  .. ..$ : chr [1:10084] \"USNM_100517\" \"USNM_100519\" \"USNM_100521\" \"USNM_108275\" ...\n",
      " $ rep    : num [1:36, 1:3, 1:2, 1:5990] -0.4111 0.1889 0.0889 0.4889 0.9116 ...\n",
      "  ..- attr(*, \"dimnames\")=List of 4\n",
      "  .. ..$ : chr [1:36] \"IS\" \"NSL\" \"NA\" \"BR\" ...\n",
      "  .. ..$ : chr [1:3] \"X\" \"Y\" \"Z\"\n",
      "  .. ..$ : chr [1:2] \"R1\" \"R2\"\n",
      "  .. ..$ : chr [1:5990] \"AMNH_133694\" \"AMNH_133695\" \"AMNH_183290\" \"USNM_194355\" ...\n"
     ]
    }
   ],
   "source": [
    "primates %>% str"
   ]
  }
 ],
 "metadata": {
  "kernelspec": {
   "display_name": "R",
   "name": "ir"
  },
  "language_info": {
   "codemirror_mode": "r",
   "file_extension": ".r",
   "mimetype": "text/x-r-source",
   "name": "R",
   "pygments_lexer": "r",
   "version": "3.5.1"
  },
  "name": "test_r.ipynb"
 },
 "nbformat": 4,
 "nbformat_minor": 2
}
